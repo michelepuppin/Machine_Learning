{
 "cells": [
  {
   "cell_type": "markdown",
   "metadata": {},
   "source": [
    "# Clothes Classification with Neural Networks\n",
    "\n",
    "In this notebook we are going to explore the Neural Networks for image classification. We are going to use the same dataset of the SVM notebook: Fashion MNIST (https://pravarmahajan.github.io/fashion/), a dataset of small images of clothes and accessories.\n",
    "\n",
    "The dataset labels are the following:\n",
    "\n",
    "| Label | Description |\n",
    "| --- | --- |\n",
    "| 0 | T-shirt/top |\n",
    "| 1 | Trouser |\n",
    "| 2 | Pullover |\n",
    "| 3 | Dress |\n",
    "| 4 | Coat |\n",
    "| 5 | Sandal |\n",
    "| 6 | Shirt |\n",
    "| 7 | Sneaker |\n",
    "| 8 | Bag |\n",
    "| 9 | Ankle boot |"
   ]
  },
  {
   "cell_type": "code",
   "execution_count": 1,
   "metadata": {},
   "outputs": [
    {
     "name": "stdout",
     "output_type": "stream",
     "text": [
      "scikit-learn version:  0.22.1\n"
     ]
    }
   ],
   "source": [
    "#load the required packages and check Scikit-learn version\n",
    "\n",
    "%matplotlib inline  \n",
    "\n",
    "import numpy as np\n",
    "import scipy as sp\n",
    "import matplotlib.pyplot as plt\n",
    "import pandas as pd\n",
    "\n",
    "import sklearn\n",
    "print ('scikit-learn version: ', sklearn.__version__)\n",
    "from sklearn.neural_network import MLPClassifier\n",
    "from sklearn.model_selection import GridSearchCV\n",
    "from sklearn.svm import SVC"
   ]
  },
  {
   "cell_type": "code",
   "execution_count": 2,
   "metadata": {},
   "outputs": [],
   "source": [
    "# helper function to load Fashion MNIST dataset from disk\n",
    "def load_mnist(path, kind='train'):\n",
    "    import os\n",
    "    import gzip\n",
    "    import numpy as np\n",
    "    labels_path = os.path.join(path, '%s-labels-idx1-ubyte.gz' % kind)\n",
    "    images_path = os.path.join(path, '%s-images-idx3-ubyte.gz' % kind)\n",
    "    with gzip.open(labels_path, 'rb') as lbpath:\n",
    "        labels = np.frombuffer(lbpath.read(), dtype=np.uint8,offset=8)\n",
    "    with gzip.open(images_path, 'rb') as imgpath:\n",
    "        images = np.frombuffer(imgpath.read(), dtype=np.uint8,offset=16).reshape(len(labels), 784)\n",
    "    return images, labels"
   ]
  },
  {
   "cell_type": "markdown",
   "metadata": {},
   "source": [
    "# TODO \n",
    "Place a seed for the random generator (you can use your \"numero di matricola\"). Try to change the seed to see the impact of the randomization."
   ]
  },
  {
   "cell_type": "code",
   "execution_count": 3,
   "metadata": {},
   "outputs": [],
   "source": [
    "ID = 123456\n",
    "np.random.seed(ID)"
   ]
  },
  {
   "cell_type": "code",
   "execution_count": 4,
   "metadata": {},
   "outputs": [
    {
     "name": "stdout",
     "output_type": "stream",
     "text": [
      "Number of samples in the MNIST dataset: 60000\n"
     ]
    }
   ],
   "source": [
    "#load the MNIST dataset and let's normalize the features so that each value is in [0,1]\n",
    "X, y = load_mnist(\"data\")\n",
    "print(\"Number of samples in the MNIST dataset:\", X.shape[0])\n",
    "# rescale the data\n",
    "X = X / 255.0"
   ]
  },
  {
   "cell_type": "markdown",
   "metadata": {},
   "source": [
    "Now split into training and test. We start with a small training set of 600 samples to reduce computation time. Make sure that each label is present at least 10 times\n",
    "in training frequencies."
   ]
  },
  {
   "cell_type": "code",
   "execution_count": 5,
   "metadata": {},
   "outputs": [
    {
     "name": "stdout",
     "output_type": "stream",
     "text": [
      "Labels in training dataset:  [0 1 2 3 4 5 6 7 8 9]\n",
      "Frequencies in training dataset:  [64 53 57 63 71 57 63 56 60 56]\n"
     ]
    }
   ],
   "source": [
    "#random permute the data and split into training and test taking the first 600\n",
    "#data samples as training and the rests as test\n",
    "permutation = np.random.permutation(X.shape[0])\n",
    "\n",
    "X = X[permutation]\n",
    "y = y[permutation]\n",
    "\n",
    "m_training = 600\n",
    "\n",
    "X_train, X_test = X[:m_training], X[m_training:]\n",
    "y_train, y_test = y[:m_training], y[m_training:]\n",
    "\n",
    "labels, freqs = np.unique(y_train, return_counts=True)\n",
    "print(\"Labels in training dataset: \", labels)\n",
    "print(\"Frequencies in training dataset: \", freqs)"
   ]
  },
  {
   "cell_type": "code",
   "execution_count": 6,
   "metadata": {},
   "outputs": [],
   "source": [
    "#function for plotting a image and printing the corresponding label\n",
    "def plot_input(X_matrix, labels, index):\n",
    "    print(\"INPUT:\")\n",
    "    plt.imshow(\n",
    "        X_matrix[index].reshape(28,28),\n",
    "        cmap          = plt.cm.gray_r,\n",
    "        interpolation = \"nearest\"\n",
    "    )\n",
    "    plt.show()\n",
    "    print(\"LABEL: %i\"%labels[index])\n",
    "    return"
   ]
  },
  {
   "cell_type": "code",
   "execution_count": 7,
   "metadata": {},
   "outputs": [
    {
     "name": "stdout",
     "output_type": "stream",
     "text": [
      "INPUT:\n"
     ]
    },
    {
     "data": {
      "image/png": "[encoded data removed]",
      "text/plain": [
       "<Figure size 432x288 with 1 Axes>"
      ]
     },
     "metadata": {},
     "output_type": "display_data"
    },
    {
     "name": "stdout",
     "output_type": "stream",
     "text": [
      "LABEL: 1\n",
      "INPUT:\n"
     ]
    },
    {
     "data": {
      "image/png": "[encoded data removed]",
      "text/plain": [
       "<Figure size 432x288 with 1 Axes>"
      ]
     },
     "metadata": {},
     "output_type": "display_data"
    },
    {
     "name": "stdout",
     "output_type": "stream",
     "text": [
      "LABEL: 3\n",
      "INPUT:\n"
     ]
    },
    {
     "data": {
      "image/png": "[encoded data removed]",
      "text/plain": [
       "<Figure size 432x288 with 1 Axes>"
      ]
     },
     "metadata": {},
     "output_type": "display_data"
    },
    {
     "name": "stdout",
     "output_type": "stream",
     "text": [
      "LABEL: 5\n"
     ]
    }
   ],
   "source": [
    "#let's try the plotting function\n",
    "plot_input(X_train,y_train,10)\n",
    "plot_input(X_test,y_test,100)\n",
    "plot_input(X_test,y_test,10000)"
   ]
  },
  {
   "cell_type": "markdown",
   "metadata": {},
   "source": [
    "## TO DO 1\n",
    "\n",
    "Now use a feed-forward Neural Network for prediction. Use the multi-layer perceptron classifier, with the following parameters: max_iter=300, alpha=1e-4, solver='sgd', tol=1e-4, learning_rate_init=.1, random_state=ID (this last parameter ensures the run is the same even if you run it more than once). The alpha parameter is the regularization term.\n",
    "\n",
    "Then, using the default activation function, pick four or five architectures to consider, with different numbers of hidden layers and different sizes. It is not necessary to create huge neural networks, you can limit to 3 layers and, for each layer, its maximum size can be of 100. Evaluate the architectures you chose using GridSearchCV with cv=5.\n",
    "\n",
    "You can reduce the number of iterations if the running time is too long on your computer.\n"
   ]
  },
  {
   "cell_type": "code",
   "execution_count": 8,
   "metadata": {},
   "outputs": [
    {
     "name": "stderr",
     "output_type": "stream",
     "text": [
      "/home/michelepuppin/anaconda3/lib/python3.6/site-packages/sklearn/neural_network/_multilayer_perceptron.py:571: ConvergenceWarning: Stochastic Optimizer: Maximum iterations (300) reached and the optimization hasn't converged yet.\n",
      "  % self.max_iter, ConvergenceWarning)\n"
     ]
    },
    {
     "data": {
      "text/plain": [
       "GridSearchCV(cv=5, error_score=nan,\n",
       "             estimator=MLPClassifier(activation='relu', alpha=0.0001,\n",
       "                                     batch_size='auto', beta_1=0.9,\n",
       "                                     beta_2=0.999, early_stopping=False,\n",
       "                                     epsilon=1e-08, hidden_layer_sizes=(100,),\n",
       "                                     learning_rate='constant',\n",
       "                                     learning_rate_init=0.1, max_fun=15000,\n",
       "                                     max_iter=300, momentum=0.9,\n",
       "                                     n_iter_no_change=10,\n",
       "                                     nesterovs_momentum=True, power_t=0.5,\n",
       "                                     random_state=123456, shuffle=True,\n",
       "                                     solver='sgd', tol=0.0001,\n",
       "                                     validation_fraction=0.1, verbose=False,\n",
       "                                     warm_start=False),\n",
       "             iid='deprecated', n_jobs=None,\n",
       "             param_grid={'hidden_layer_sizes': [(10,), (20,), (40,), (40, 20),\n",
       "                                                (40, 30, 20)]},\n",
       "             pre_dispatch='2*n_jobs', refit=True, return_train_score=False,\n",
       "             scoring=None, verbose=0)"
      ]
     },
     "execution_count": 8,
     "metadata": {},
     "output_type": "execute_result"
    }
   ],
   "source": [
    "# these are sample values but feel free to change them as you like, try to experiment with different sizes!!\n",
    "parameters = {'hidden_layer_sizes': [(10,), (20,), (40,), (40,20,), (40,30,20) ]}\n",
    "\n",
    "mlp = MLPClassifier(max_iter=300, alpha=1e-4, solver='sgd',\n",
    "                    tol=1e-4, random_state=ID,\n",
    "                    learning_rate_init=.1)\n",
    "\n",
    "\n",
    "best_arc = GridSearchCV(mlp, parameters, cv=5)\n",
    "best_arc.fit(X_train, y_train)"
   ]
  },
  {
   "cell_type": "code",
   "execution_count": 9,
   "metadata": {},
   "outputs": [
    {
     "name": "stdout",
     "output_type": "stream",
     "text": [
      "RESULTS FOR NN\n",
      "\n",
      "Best parameters set found:\n",
      "{'hidden_layer_sizes': (40,)} \n",
      "\n",
      "Score with best parameters:\n",
      "0.77 \n",
      "\n",
      "\n",
      "All scores on the grid:\n",
      "[0.675      0.735      0.77       0.66666667 0.61833333]\n"
     ]
    }
   ],
   "source": [
    "print ('RESULTS FOR NN\\n')\n",
    "\n",
    "print(\"Best parameters set found:\")\n",
    "print(best_arc.best_params_, \"\\n\")\n",
    "\n",
    "print(\"Score with best parameters:\")\n",
    "print(best_arc.best_score_, \"\\n\")\n",
    "\n",
    "print(\"\\nAll scores on the grid:\")\n",
    "print(best_arc.cv_results_['mean_test_score'])"
   ]
  },
  {
   "cell_type": "markdown",
   "metadata": {},
   "source": [
    "### TO DO 2\n",
    "\n",
    "Now try also different batch sizes, while keeping the best NN architecture you have found above. Remember that the batch size was previously set to the default value, i.e., min(200, n_samples). \n",
    "Recall that a batch size of 1 corresponds to baseline SGD, while using all the 480 training samples (there are 600 samples but in cross validation with 5 folders we use 1/5 of them for validation at each round) corresponds to standard GD and using a different mini-batch size lies in the middle between the two extreme cases."
   ]
  },
  {
   "cell_type": "code",
   "execution_count": 10,
   "metadata": {
    "scrolled": true
   },
   "outputs": [
    {
     "data": {
      "text/plain": [
       "GridSearchCV(cv=KFold(n_splits=5, random_state=None, shuffle=False),\n",
       "             error_score=nan,\n",
       "             estimator=MLPClassifier(activation='relu', alpha=0.0001,\n",
       "                                     batch_size='auto', beta_1=0.9,\n",
       "                                     beta_2=0.999, early_stopping=False,\n",
       "                                     epsilon=1e-08, hidden_layer_sizes=(40,),\n",
       "                                     learning_rate='constant',\n",
       "                                     learning_rate_init=0.1, max_fun=15000,\n",
       "                                     max_iter=300, momentum=0.9,\n",
       "                                     n_iter_no_change=10,\n",
       "                                     nesterovs_momentum=True, power_t=0.5,\n",
       "                                     random_state=123456, shuffle=True,\n",
       "                                     solver='sgd', tol=0.0001,\n",
       "                                     validation_fraction=0.1, verbose=False,\n",
       "                                     warm_start=False),\n",
       "             iid='deprecated', n_jobs=None,\n",
       "             param_grid={'batch_size': [1, 32, 120, 240, 360, 480]},\n",
       "             pre_dispatch='2*n_jobs', refit=True, return_train_score=False,\n",
       "             scoring=None, verbose=0)"
      ]
     },
     "execution_count": 10,
     "metadata": {},
     "output_type": "execute_result"
    }
   ],
   "source": [
    "# these are sample values corresponding to baseline SGD, a reasonable mini-batch size and standard GD\n",
    "# again feel free to change them as you like, try to experiment with different batch sizes!!\n",
    "parameters = {'batch_size': [1, 32, 120, 240, 360, 480]}\n",
    "\n",
    "mlp_diff = MLPClassifier(hidden_layer_sizes=best_arc.best_params_['hidden_layer_sizes'],max_iter=300, alpha=1e-4, solver='sgd',\n",
    "                    tol=1e-4, random_state=ID,\n",
    "                    learning_rate_init=.1)\n",
    "\n",
    "# need to specify that you would like to use the standard k-fold split otherwise sklearn create splits of different sizes\n",
    "kf = sklearn.model_selection.KFold(n_splits=5)\n",
    "\n",
    "# recall to use cv=kf in GridSearchCV parameters to use the k-fold subdivision seen in the lectures\n",
    "\n",
    "best_arc_diff = GridSearchCV(mlp_diff, parameters, cv=kf)\n",
    "best_arc_diff.fit(X_train, y_train)"
   ]
  },
  {
   "cell_type": "code",
   "execution_count": 11,
   "metadata": {},
   "outputs": [
    {
     "name": "stdout",
     "output_type": "stream",
     "text": [
      "RESULTS FOR NN\n",
      "\n",
      "Best parameters set found:\n",
      "{'batch_size': 360} \n",
      "\n",
      "Score with best parameters:\n",
      "0.77 \n",
      "\n",
      "\n",
      "All scores on the grid:\n",
      "[0.08833333 0.71833333 0.75833333 0.765      0.77       0.76166667]\n"
     ]
    }
   ],
   "source": [
    "print ('RESULTS FOR NN\\n')\n",
    "\n",
    "print(\"Best parameters set found:\")\n",
    "print(best_arc_diff.best_params_, \"\\n\")\n",
    "\n",
    "print(\"Score with best parameters:\")\n",
    "print(best_arc_diff.best_score_, \"\\n\")\n",
    "\n",
    "print(\"\\nAll scores on the grid:\")\n",
    "print(best_arc_diff.cv_results_['mean_test_score'])"
   ]
  },
  {
   "cell_type": "markdown",
   "metadata": {},
   "source": [
    "### QUESTION 1\n",
    "\n",
    "What do you observe for different architectures and batch sizes? How do the number of layers and their sizes affect the performances? What do you observe for different batch sizes, in particular what happens to the training convergence for different batch sizes (notice that the algorithm could not converge for some batch sizes)?"
   ]
  },
  {
   "cell_type": "markdown",
   "metadata": {},
   "source": [
    "## [ANSWER TO QUESTION 1]"
   ]
  },
  {
   "cell_type": "markdown",
   "metadata": {},
   "source": [
    "### TO DO 3\n",
    "\n",
    "Now try also to use different learning rates, while keeping the best NN architecture and batch size you have found above. Plot the learning curves (i.e., the variation of the loss over the steps, you can get it from the loss_curve_ object of sklearn) for the different values of the learning rate . "
   ]
  },
  {
   "cell_type": "code",
   "execution_count": 12,
   "metadata": {},
   "outputs": [
    {
     "name": "stderr",
     "output_type": "stream",
     "text": [
      "/home/michelepuppin/anaconda3/lib/python3.6/site-packages/sklearn/neural_network/_multilayer_perceptron.py:571: ConvergenceWarning: Stochastic Optimizer: Maximum iterations (300) reached and the optimization hasn't converged yet.\n",
      "  % self.max_iter, ConvergenceWarning)\n",
      "/home/michelepuppin/anaconda3/lib/python3.6/site-packages/sklearn/neural_network/_multilayer_perceptron.py:571: ConvergenceWarning: Stochastic Optimizer: Maximum iterations (300) reached and the optimization hasn't converged yet.\n",
      "  % self.max_iter, ConvergenceWarning)\n"
     ]
    }
   ],
   "source": [
    "import matplotlib.pyplot as plt\n",
    "\n",
    "\n",
    "lr_list = [10**exp for exp in range(-3,0)]\n",
    "scores = []\n",
    "\n",
    "for learning_rate in lr_list:\n",
    "    mlp_try = MLPClassifier(hidden_layer_sizes=best_arc.best_params_['hidden_layer_sizes'],batch_size=best_arc_diff.best_params_['batch_size'], max_iter=300, alpha=1e-4, solver='sgd',\n",
    "                    tol=1e-4, random_state=ID,learning_rate_init=learning_rate,\n",
    "                    learning_rate = 'constant')\n",
    "    mlp_try.fit(X_train, y_train)\n",
    "    scores.append(mlp_try.loss_curve_)"
   ]
  },
  {
   "cell_type": "code",
   "execution_count": 13,
   "metadata": {},
   "outputs": [
    {
     "data": {
      "image/png": "[encoded data removed]",
      "text/plain": [
       "<Figure size 432x288 with 1 Axes>"
      ]
     },
     "metadata": {},
     "output_type": "display_data"
    },
    {
     "name": "stderr",
     "output_type": "stream",
     "text": [
      "/home/michelepuppin/anaconda3/lib/python3.6/site-packages/sklearn/neural_network/_multilayer_perceptron.py:571: ConvergenceWarning: Stochastic Optimizer: Maximum iterations (300) reached and the optimization hasn't converged yet.\n",
      "  % self.max_iter, ConvergenceWarning)\n",
      "/home/michelepuppin/anaconda3/lib/python3.6/site-packages/sklearn/neural_network/_multilayer_perceptron.py:571: ConvergenceWarning: Stochastic Optimizer: Maximum iterations (300) reached and the optimization hasn't converged yet.\n",
      "  % self.max_iter, ConvergenceWarning)\n",
      "/home/michelepuppin/anaconda3/lib/python3.6/site-packages/sklearn/neural_network/_multilayer_perceptron.py:571: ConvergenceWarning: Stochastic Optimizer: Maximum iterations (300) reached and the optimization hasn't converged yet.\n",
      "  % self.max_iter, ConvergenceWarning)\n",
      "/home/michelepuppin/anaconda3/lib/python3.6/site-packages/sklearn/neural_network/_multilayer_perceptron.py:571: ConvergenceWarning: Stochastic Optimizer: Maximum iterations (300) reached and the optimization hasn't converged yet.\n",
      "  % self.max_iter, ConvergenceWarning)\n",
      "/home/michelepuppin/anaconda3/lib/python3.6/site-packages/sklearn/neural_network/_multilayer_perceptron.py:571: ConvergenceWarning: Stochastic Optimizer: Maximum iterations (300) reached and the optimization hasn't converged yet.\n",
      "  % self.max_iter, ConvergenceWarning)\n",
      "/home/michelepuppin/anaconda3/lib/python3.6/site-packages/sklearn/neural_network/_multilayer_perceptron.py:571: ConvergenceWarning: Stochastic Optimizer: Maximum iterations (300) reached and the optimization hasn't converged yet.\n",
      "  % self.max_iter, ConvergenceWarning)\n",
      "/home/michelepuppin/anaconda3/lib/python3.6/site-packages/sklearn/neural_network/_multilayer_perceptron.py:571: ConvergenceWarning: Stochastic Optimizer: Maximum iterations (300) reached and the optimization hasn't converged yet.\n",
      "  % self.max_iter, ConvergenceWarning)\n",
      "/home/michelepuppin/anaconda3/lib/python3.6/site-packages/sklearn/neural_network/_multilayer_perceptron.py:571: ConvergenceWarning: Stochastic Optimizer: Maximum iterations (300) reached and the optimization hasn't converged yet.\n",
      "  % self.max_iter, ConvergenceWarning)\n",
      "/home/michelepuppin/anaconda3/lib/python3.6/site-packages/sklearn/neural_network/_multilayer_perceptron.py:571: ConvergenceWarning: Stochastic Optimizer: Maximum iterations (300) reached and the optimization hasn't converged yet.\n",
      "  % self.max_iter, ConvergenceWarning)\n",
      "/home/michelepuppin/anaconda3/lib/python3.6/site-packages/sklearn/neural_network/_multilayer_perceptron.py:571: ConvergenceWarning: Stochastic Optimizer: Maximum iterations (300) reached and the optimization hasn't converged yet.\n",
      "  % self.max_iter, ConvergenceWarning)\n"
     ]
    },
    {
     "name": "stdout",
     "output_type": "stream",
     "text": [
      "RESULTS FOR NN\n",
      "\n",
      "Best parameters set found:\n",
      "{'learning_rate_init': 0.01}\n",
      "Score with best parameters:\n",
      "0.7699999999999999\n"
     ]
    },
    {
     "name": "stderr",
     "output_type": "stream",
     "text": [
      "/home/michelepuppin/anaconda3/lib/python3.6/site-packages/sklearn/neural_network/_multilayer_perceptron.py:571: ConvergenceWarning: Stochastic Optimizer: Maximum iterations (300) reached and the optimization hasn't converged yet.\n",
      "  % self.max_iter, ConvergenceWarning)\n"
     ]
    }
   ],
   "source": [
    "for i in range(len(scores)):\n",
    "    plt.plot(scores[i], label = str(lr_list[i]))\n",
    "plt.legend()\n",
    "plt.show()\n",
    "\n",
    "mlp_lr = GridSearchCV(mlp_diff, {'learning_rate_init' : lr_list }, cv=kf)\n",
    "mlp_lr.fit(X_train, y_train)\n",
    "\n",
    "print ('RESULTS FOR NN\\n')\n",
    "\n",
    "print(\"Best parameters set found:\")\n",
    "print(mlp_lr.best_params_)\n",
    "\n",
    "print(\"Score with best parameters:\")\n",
    "print(mlp_lr.best_score_)"
   ]
  },
  {
   "cell_type": "markdown",
   "metadata": {},
   "source": [
    "### QUESTION 2\n",
    "\n",
    "Comment about the learning curves (i.e. the variation of the loss over the steps). How does the curve changes for different learning rates in terms of stability and speed of convergence ?"
   ]
  },
  {
   "cell_type": "markdown",
   "metadata": {},
   "source": [
    "For learning rate 0.001 and 0.01 stability is optimal, in fact we see a continuum line, and it converges very slowly (anyway faster for 0.01). For learning rate 0.1 we lose stability (but anyway it gets stable at convergence) and it converges much fater than the two others."
   ]
  },
  {
   "cell_type": "markdown",
   "metadata": {},
   "source": [
    "### TO DO 4\n",
    "\n",
    "Now get training and test error for a NN with best parameters (architecture, batch size and learning rate)from above. Plot the learning curve also for this case."
   ]
  },
  {
   "cell_type": "code",
   "execution_count": 14,
   "metadata": {
    "scrolled": true
   },
   "outputs": [
    {
     "name": "stdout",
     "output_type": "stream",
     "text": [
      "\n",
      "RESULTS FOR BEST NN\n",
      "\n",
      "Best NN training error: 0.013333\n",
      "Best NN test error: 0.211128\n"
     ]
    },
    {
     "name": "stderr",
     "output_type": "stream",
     "text": [
      "/home/michelepuppin/anaconda3/lib/python3.6/site-packages/sklearn/neural_network/_multilayer_perceptron.py:571: ConvergenceWarning: Stochastic Optimizer: Maximum iterations (300) reached and the optimization hasn't converged yet.\n",
      "  % self.max_iter, ConvergenceWarning)\n"
     ]
    },
    {
     "data": {
      "text/plain": [
       "[<matplotlib.lines.Line2D at 0x7f886c94bb38>]"
      ]
     },
     "execution_count": 14,
     "metadata": {},
     "output_type": "execute_result"
    },
    {
     "data": {
      "image/png": "[encoded data removed]",
      "text/plain": [
       "<Figure size 432x288 with 1 Axes>"
      ]
     },
     "metadata": {},
     "output_type": "display_data"
    }
   ],
   "source": [
    "#get training and test error for the best NN model from CV\n",
    "\n",
    "mlp_best_ever = MLPClassifier(hidden_layer_sizes=best_arc.best_params_['hidden_layer_sizes'],batch_size=best_arc_diff.best_params_['batch_size'], max_iter=300, alpha=1e-4, solver='sgd',\n",
    "                    tol=1e-4, random_state=ID,learning_rate_init=mlp_lr.best_params_['learning_rate_init'],\n",
    "                    learning_rate = 'constant')\n",
    "\n",
    "mlp_best_ever.fit(X_train,y_train)\n",
    "\n",
    "training_error = 1 - mlp_best_ever.score(X_train,y_train)\n",
    "test_error = 1 - mlp_best_ever.score(X_test,y_test)\n",
    "\n",
    "print ('\\nRESULTS FOR BEST NN\\n')\n",
    "\n",
    "print (\"Best NN training error: %f\" % training_error)\n",
    "print (\"Best NN test error: %f\" % test_error)\n",
    "\n",
    "plt.plot(mlp_best_ever.loss_curve_, label='loss curve') "
   ]
  },
  {
   "cell_type": "markdown",
   "metadata": {},
   "source": [
    "## More data \n",
    "Now let's do the same but using 5000 (or less if it takes too long on your machine) data points for training. Use the same NN architecture as before, but you can try more if you like and have a powerful computer !!"
   ]
  },
  {
   "cell_type": "code",
   "execution_count": 15,
   "metadata": {},
   "outputs": [
    {
     "name": "stdout",
     "output_type": "stream",
     "text": [
      "Labels in training dataset:  [0 1 2 3 4 5 6 7 8 9]\n",
      "Frequencies in training dataset:  [521 509 492 472 530 459 506 500 506 505]\n"
     ]
    }
   ],
   "source": [
    "X = X[permutation]\n",
    "y = y[permutation]\n",
    "\n",
    "m_training = 5000\n",
    "\n",
    "X_train, X_test = X[:m_training], X[m_training:]\n",
    "y_train, y_test = y[:m_training], y[m_training:]\n",
    "\n",
    "labels, freqs = np.unique(y_train, return_counts=True)\n",
    "print(\"Labels in training dataset: \", labels)\n",
    "print(\"Frequencies in training dataset: \", freqs)"
   ]
  },
  {
   "cell_type": "markdown",
   "metadata": {},
   "source": [
    "## TO DO 5\n",
    "\n",
    "Now train the NNs with the added data points using the optimum parameters found above. Eventually, feel free to try different architectures if you like. We suggest that you use 'verbose=True' so have an idea of how long it takes to run 1 iteration (eventually reduce also the number of iterations to 50)."
   ]
  },
  {
   "cell_type": "code",
   "execution_count": 16,
   "metadata": {},
   "outputs": [
    {
     "name": "stdout",
     "output_type": "stream",
     "text": [
      "Iteration 1, loss = 2.01850612\n",
      "Iteration 2, loss = 1.32883838\n",
      "Iteration 3, loss = 0.98796361\n",
      "Iteration 4, loss = 0.83149467\n",
      "Iteration 5, loss = 0.75308776\n",
      "Iteration 6, loss = 0.70559294\n",
      "Iteration 7, loss = 0.66910942\n",
      "Iteration 8, loss = 0.64107862\n",
      "Iteration 9, loss = 0.61657113\n",
      "Iteration 10, loss = 0.59946388\n",
      "Iteration 11, loss = 0.58440359\n",
      "Iteration 12, loss = 0.56750337\n",
      "Iteration 13, loss = 0.55599478\n",
      "Iteration 14, loss = 0.54322224\n",
      "Iteration 15, loss = 0.53276905\n",
      "Iteration 16, loss = 0.52451729\n",
      "Iteration 17, loss = 0.51409319\n",
      "Iteration 18, loss = 0.50640347\n",
      "Iteration 19, loss = 0.50090352\n",
      "Iteration 20, loss = 0.49557753\n",
      "Iteration 21, loss = 0.48995589\n",
      "Iteration 22, loss = 0.48127017\n",
      "Iteration 23, loss = 0.47598963\n",
      "Iteration 24, loss = 0.46924711\n",
      "Iteration 25, loss = 0.46464117\n",
      "Iteration 26, loss = 0.46201083\n",
      "Iteration 27, loss = 0.45511741\n",
      "Iteration 28, loss = 0.45173223\n",
      "Iteration 29, loss = 0.44682763\n",
      "Iteration 30, loss = 0.44549715\n",
      "Iteration 31, loss = 0.43849624\n",
      "Iteration 32, loss = 0.43479851\n",
      "Iteration 33, loss = 0.43118756\n",
      "Iteration 34, loss = 0.43014242\n",
      "Iteration 35, loss = 0.42600880\n",
      "Iteration 36, loss = 0.42245774\n",
      "Iteration 37, loss = 0.41895610\n",
      "Iteration 38, loss = 0.41560934\n",
      "Iteration 39, loss = 0.41202782\n",
      "Iteration 40, loss = 0.40891457\n",
      "Iteration 41, loss = 0.40743576\n",
      "Iteration 42, loss = 0.40323609\n",
      "Iteration 43, loss = 0.39974500\n",
      "Iteration 44, loss = 0.39835752\n",
      "Iteration 45, loss = 0.39605490\n",
      "Iteration 46, loss = 0.39202226\n",
      "Iteration 47, loss = 0.39036184\n",
      "Iteration 48, loss = 0.38600923\n",
      "Iteration 49, loss = 0.38614261\n",
      "Iteration 50, loss = 0.38317640\n",
      "Iteration 51, loss = 0.37854627\n",
      "Iteration 52, loss = 0.37668881\n",
      "Iteration 53, loss = 0.37721568\n",
      "Iteration 54, loss = 0.37218776\n",
      "Iteration 55, loss = 0.36885141\n",
      "Iteration 56, loss = 0.36795404\n",
      "Iteration 57, loss = 0.36513659\n",
      "Iteration 58, loss = 0.36349219\n",
      "Iteration 59, loss = 0.36142113\n",
      "Iteration 60, loss = 0.35838141\n",
      "Iteration 61, loss = 0.35746828\n",
      "Iteration 62, loss = 0.35424393\n",
      "Iteration 63, loss = 0.35440022\n",
      "Iteration 64, loss = 0.35109841\n",
      "Iteration 65, loss = 0.35003620\n",
      "Iteration 66, loss = 0.35011321\n",
      "Iteration 67, loss = 0.34322732\n",
      "Iteration 68, loss = 0.34348598\n",
      "Iteration 69, loss = 0.34154880\n",
      "Iteration 70, loss = 0.34050881\n",
      "Iteration 71, loss = 0.33756958\n",
      "Iteration 72, loss = 0.33417922\n",
      "Iteration 73, loss = 0.33347869\n",
      "Iteration 74, loss = 0.33327212\n",
      "Iteration 75, loss = 0.33019587\n",
      "Iteration 76, loss = 0.32770271\n",
      "Iteration 77, loss = 0.32648575\n",
      "Iteration 78, loss = 0.32515218\n",
      "Iteration 79, loss = 0.32340918\n",
      "Iteration 80, loss = 0.32187726\n",
      "Iteration 81, loss = 0.31693994\n",
      "Iteration 82, loss = 0.32104531\n",
      "Iteration 83, loss = 0.31736712\n",
      "Iteration 84, loss = 0.31340524\n",
      "Iteration 85, loss = 0.31268306\n",
      "Iteration 86, loss = 0.31061988\n",
      "Iteration 87, loss = 0.31013601\n",
      "Iteration 88, loss = 0.30800586\n",
      "Iteration 89, loss = 0.30602611\n",
      "Iteration 90, loss = 0.30578375\n",
      "Iteration 91, loss = 0.30431183\n",
      "Iteration 92, loss = 0.30067366\n",
      "Iteration 93, loss = 0.30092729\n",
      "Iteration 94, loss = 0.29871191\n",
      "Iteration 95, loss = 0.29730275\n",
      "Iteration 96, loss = 0.29622132\n",
      "Iteration 97, loss = 0.29375826\n",
      "Iteration 98, loss = 0.29125762\n",
      "Iteration 99, loss = 0.29137597\n",
      "Iteration 100, loss = 0.28900282\n",
      "Iteration 101, loss = 0.28749217\n",
      "Iteration 102, loss = 0.28735996\n",
      "Iteration 103, loss = 0.28407782\n",
      "Iteration 104, loss = 0.28436488\n",
      "Iteration 105, loss = 0.28288259\n",
      "Iteration 106, loss = 0.28140600\n",
      "Iteration 107, loss = 0.28070240\n",
      "Iteration 108, loss = 0.27809479\n",
      "Iteration 109, loss = 0.27722589\n",
      "Iteration 110, loss = 0.27637208\n",
      "Iteration 111, loss = 0.27436089\n",
      "Iteration 112, loss = 0.27421673\n",
      "Iteration 113, loss = 0.27464175\n",
      "Iteration 114, loss = 0.27418266\n",
      "Iteration 115, loss = 0.26804644\n",
      "Iteration 116, loss = 0.26699801\n",
      "Iteration 117, loss = 0.26669683\n",
      "Iteration 118, loss = 0.26549695\n",
      "Iteration 119, loss = 0.26411631\n",
      "Iteration 120, loss = 0.26233617\n",
      "Iteration 121, loss = 0.26511177\n",
      "Iteration 122, loss = 0.26126771\n",
      "Iteration 123, loss = 0.25958291\n",
      "Iteration 124, loss = 0.25747476\n",
      "Iteration 125, loss = 0.25596856\n",
      "Iteration 126, loss = 0.25681186\n",
      "Iteration 127, loss = 0.25273025\n",
      "Iteration 128, loss = 0.25281082\n",
      "Iteration 129, loss = 0.25266926\n",
      "Iteration 130, loss = 0.25125082\n",
      "Iteration 131, loss = 0.24929899\n",
      "Iteration 132, loss = 0.24819891\n",
      "Iteration 133, loss = 0.24609948\n",
      "Iteration 134, loss = 0.24672319\n",
      "Iteration 135, loss = 0.24581632\n",
      "Iteration 136, loss = 0.24460905\n",
      "Iteration 137, loss = 0.24448769\n",
      "Iteration 138, loss = 0.24083877\n",
      "Iteration 139, loss = 0.24104308\n",
      "Iteration 140, loss = 0.24038070\n",
      "Iteration 141, loss = 0.23667534\n",
      "Iteration 142, loss = 0.23423158\n",
      "Iteration 143, loss = 0.23522203\n",
      "Iteration 144, loss = 0.23291537\n",
      "Iteration 145, loss = 0.23482900\n",
      "Iteration 146, loss = 0.23195518\n",
      "Iteration 147, loss = 0.23326284\n",
      "Iteration 148, loss = 0.22798722\n",
      "Iteration 149, loss = 0.22847341\n",
      "Iteration 150, loss = 0.22702848\n",
      "Iteration 151, loss = 0.22907368\n",
      "Iteration 152, loss = 0.22586786\n",
      "Iteration 153, loss = 0.22460427\n",
      "Iteration 154, loss = 0.22260965\n",
      "Iteration 155, loss = 0.22351979\n",
      "Iteration 156, loss = 0.22082647\n",
      "Iteration 157, loss = 0.22105778\n",
      "Iteration 158, loss = 0.22088423\n",
      "Iteration 159, loss = 0.21918376\n",
      "Iteration 160, loss = 0.21761557\n",
      "Iteration 161, loss = 0.21836119\n",
      "Iteration 162, loss = 0.21600237\n",
      "Iteration 163, loss = 0.21437045\n",
      "Iteration 164, loss = 0.21572743\n",
      "Iteration 165, loss = 0.21365666\n",
      "Iteration 166, loss = 0.21179827\n",
      "Iteration 167, loss = 0.20964825\n",
      "Iteration 168, loss = 0.20937466\n",
      "Iteration 169, loss = 0.20846657\n",
      "Iteration 170, loss = 0.21292044\n",
      "Iteration 171, loss = 0.20906566\n",
      "Iteration 172, loss = 0.20826394\n",
      "Iteration 173, loss = 0.20619333\n",
      "Iteration 174, loss = 0.20409870\n",
      "Iteration 175, loss = 0.20312089\n",
      "Iteration 176, loss = 0.20190465\n",
      "Iteration 177, loss = 0.20139860\n",
      "Iteration 178, loss = 0.20142467\n",
      "Iteration 179, loss = 0.20211144\n",
      "Iteration 180, loss = 0.19895980\n",
      "Iteration 181, loss = 0.19854202\n",
      "Iteration 182, loss = 0.19713805\n",
      "Iteration 183, loss = 0.19544529\n",
      "Iteration 184, loss = 0.19573541\n",
      "Iteration 185, loss = 0.19401448\n",
      "Iteration 186, loss = 0.19452781\n",
      "Iteration 187, loss = 0.19339587\n",
      "Iteration 188, loss = 0.19497491\n",
      "Iteration 189, loss = 0.19089433\n",
      "Iteration 190, loss = 0.19048513\n",
      "Iteration 191, loss = 0.19057305\n",
      "Iteration 192, loss = 0.19101869\n",
      "Iteration 193, loss = 0.18642480\n",
      "Iteration 194, loss = 0.18815308\n",
      "Iteration 195, loss = 0.18711137\n",
      "Iteration 196, loss = 0.18456314\n",
      "Iteration 197, loss = 0.18318342\n",
      "Iteration 198, loss = 0.18488934\n",
      "Iteration 199, loss = 0.18121970\n",
      "Iteration 200, loss = 0.18299874\n",
      "Iteration 201, loss = 0.18151476\n",
      "Iteration 202, loss = 0.18021411\n",
      "Iteration 203, loss = 0.17975967\n",
      "Iteration 204, loss = 0.18255143\n",
      "Iteration 205, loss = 0.17820322\n",
      "Iteration 206, loss = 0.17785070\n",
      "Iteration 207, loss = 0.17842268\n",
      "Iteration 208, loss = 0.17556939\n",
      "Iteration 209, loss = 0.17610365\n",
      "Iteration 210, loss = 0.17389462\n",
      "Iteration 211, loss = 0.17234799\n",
      "Iteration 212, loss = 0.17550030\n",
      "Iteration 213, loss = 0.17317829\n",
      "Iteration 214, loss = 0.17087510\n",
      "Iteration 215, loss = 0.17033156\n",
      "Iteration 216, loss = 0.17000188\n",
      "Iteration 217, loss = 0.16877325\n",
      "Iteration 218, loss = 0.16920926\n",
      "Iteration 219, loss = 0.16680265\n",
      "Iteration 220, loss = 0.16754389\n",
      "Iteration 221, loss = 0.16615632\n",
      "Iteration 222, loss = 0.16403115\n",
      "Iteration 223, loss = 0.16536800\n",
      "Iteration 224, loss = 0.16370831\n",
      "Iteration 225, loss = 0.16350068\n",
      "Iteration 226, loss = 0.16231350\n",
      "Iteration 227, loss = 0.16168825\n",
      "Iteration 228, loss = 0.16090843\n",
      "Iteration 229, loss = 0.15911028\n",
      "Iteration 230, loss = 0.15869584\n",
      "Iteration 231, loss = 0.15898013\n",
      "Iteration 232, loss = 0.15966480\n",
      "Iteration 233, loss = 0.15756782\n",
      "Iteration 234, loss = 0.15571736\n",
      "Iteration 235, loss = 0.15628704\n",
      "Iteration 236, loss = 0.15402282\n",
      "Iteration 237, loss = 0.15632505\n",
      "Iteration 238, loss = 0.15240083\n",
      "Iteration 239, loss = 0.15193114\n",
      "Iteration 240, loss = 0.15443496\n",
      "Iteration 241, loss = 0.15249977\n",
      "Iteration 242, loss = 0.15157326\n",
      "Iteration 243, loss = 0.15092695\n",
      "Iteration 244, loss = 0.14963712\n",
      "Iteration 245, loss = 0.14825697\n",
      "Iteration 246, loss = 0.14943179\n",
      "Iteration 247, loss = 0.14513683\n",
      "Iteration 248, loss = 0.14760054\n",
      "Iteration 249, loss = 0.14590715\n",
      "Iteration 250, loss = 0.14642365\n",
      "Iteration 251, loss = 0.14574431\n",
      "Iteration 252, loss = 0.14663856\n",
      "Iteration 253, loss = 0.14543284\n"
     ]
    },
    {
     "name": "stdout",
     "output_type": "stream",
     "text": [
      "Iteration 254, loss = 0.14464215\n",
      "Iteration 255, loss = 0.14245207\n",
      "Iteration 256, loss = 0.14401310\n",
      "Iteration 257, loss = 0.14436869\n",
      "Iteration 258, loss = 0.14201323\n",
      "Iteration 259, loss = 0.14099345\n",
      "Iteration 260, loss = 0.14028268\n",
      "Iteration 261, loss = 0.13868659\n",
      "Iteration 262, loss = 0.13801286\n",
      "Iteration 263, loss = 0.14031498\n",
      "Iteration 264, loss = 0.13784963\n",
      "Iteration 265, loss = 0.13687194\n",
      "Iteration 266, loss = 0.13625461\n",
      "Iteration 267, loss = 0.13618324\n",
      "Iteration 268, loss = 0.13613171\n",
      "Iteration 269, loss = 0.13822006\n",
      "Iteration 270, loss = 0.13524987\n",
      "Iteration 271, loss = 0.13254873\n",
      "Iteration 272, loss = 0.13266697\n",
      "Iteration 273, loss = 0.13103029\n",
      "Iteration 274, loss = 0.13323186\n",
      "Iteration 275, loss = 0.13319023\n",
      "Iteration 276, loss = 0.13221251\n",
      "Iteration 277, loss = 0.12915768\n",
      "Iteration 278, loss = 0.12817582\n",
      "Iteration 279, loss = 0.13048068\n",
      "Iteration 280, loss = 0.13062381\n",
      "Iteration 281, loss = 0.12732791\n",
      "Iteration 282, loss = 0.12581032\n",
      "Iteration 283, loss = 0.12750308\n",
      "Iteration 284, loss = 0.13081376\n",
      "Iteration 285, loss = 0.12534093\n",
      "Iteration 286, loss = 0.12784239\n",
      "Iteration 287, loss = 0.12385915\n",
      "Iteration 288, loss = 0.12517465\n",
      "Iteration 289, loss = 0.12394355\n",
      "Iteration 290, loss = 0.12281848\n",
      "Iteration 291, loss = 0.12397655\n",
      "Iteration 292, loss = 0.12219806\n",
      "Iteration 293, loss = 0.12116077\n",
      "Iteration 294, loss = 0.11962235\n",
      "Iteration 295, loss = 0.12234257\n",
      "Iteration 296, loss = 0.12084604\n",
      "Iteration 297, loss = 0.12061225\n",
      "Iteration 298, loss = 0.11942103\n",
      "Iteration 299, loss = 0.11885468\n",
      "Iteration 300, loss = 0.12046969\n",
      "\n",
      "RESULTS FOR BEST NN\n",
      "\n",
      "Best NN training error: 0.024600\n",
      "Best NN test error: 0.169673\n"
     ]
    },
    {
     "name": "stderr",
     "output_type": "stream",
     "text": [
      "/home/michelepuppin/anaconda3/lib/python3.6/site-packages/sklearn/neural_network/_multilayer_perceptron.py:571: ConvergenceWarning: Stochastic Optimizer: Maximum iterations (300) reached and the optimization hasn't converged yet.\n",
      "  % self.max_iter, ConvergenceWarning)\n"
     ]
    },
    {
     "data": {
      "text/plain": [
       "[<matplotlib.lines.Line2D at 0x7f886c8b5240>]"
      ]
     },
     "execution_count": 16,
     "metadata": {},
     "output_type": "execute_result"
    },
    {
     "data": {
      "image/png": "[encoded data removed]",
      "text/plain": [
       "<Figure size 432x288 with 1 Axes>"
      ]
     },
     "metadata": {},
     "output_type": "display_data"
    }
   ],
   "source": [
    "# use best architecture and params from before\n",
    "\n",
    "mlp_best_ever_more = MLPClassifier(hidden_layer_sizes=best_arc.best_params_['hidden_layer_sizes'],batch_size=best_arc_diff.best_params_['batch_size'], max_iter=300, alpha=1e-4, solver='sgd',\n",
    "                    tol=1e-4, random_state=ID,learning_rate_init=mlp_lr.best_params_['learning_rate_init'],\n",
    "                    learning_rate = 'constant',verbose=True)\n",
    "\n",
    "mlp_best_ever_more.fit(X_train,y_train)\n",
    "\n",
    "training_error_more = 1 - mlp_best_ever_more.score(X_train,y_train)\n",
    "test_error_more = 1 - mlp_best_ever_more.score(X_test,y_test)\n",
    "\n",
    "print ('\\nRESULTS FOR BEST NN\\n')\n",
    "\n",
    "print (\"Best NN training error: %f\" % training_error_more)\n",
    "print (\"Best NN test error: %f\" % test_error_more)\n",
    "\n",
    "plt.plot(mlp_best_ever.loss_curve_, label='loss curve') "
   ]
  },
  {
   "cell_type": "markdown",
   "metadata": {},
   "source": [
    "## QUESTION 3\n",
    "Compare the train and test errors you got with a large number of samples with the best one you obtained with only 600 data points. Comment about the results you obtained."
   ]
  },
  {
   "cell_type": "markdown",
   "metadata": {},
   "source": [
    "Training errors il lower for the case with only 600 data points while the test error is lower for the larger set. Therefore Enlarging the data set produce a better performance in the prediction since it has been training with more data. "
   ]
  },
  {
   "cell_type": "markdown",
   "metadata": {},
   "source": [
    "### TO DO 7\n",
    "\n",
    "Plot an example that was missclassified by NN with m=600 training data points and it is now instead correctly classified by NN with m=5000 training data points."
   ]
  },
  {
   "cell_type": "code",
   "execution_count": 17,
   "metadata": {},
   "outputs": [
    {
     "name": "stdout",
     "output_type": "stream",
     "text": [
      "1 False 4\n",
      "2 False 4\n",
      "3 True 5\n",
      "INPUT:\n"
     ]
    },
    {
     "data": {
      "image/png": "[encoded data removed]",
      "text/plain": [
       "<Figure size 432x288 with 1 Axes>"
      ]
     },
     "metadata": {},
     "output_type": "display_data"
    },
    {
     "name": "stdout",
     "output_type": "stream",
     "text": [
      "LABEL: 6\n",
      "SVM prediction:  6\n",
      "Logistic prediction:  4\n"
     ]
    }
   ],
   "source": [
    "NN_prediction = mlp_best_ever.predict(X_test)\n",
    "large_NN_prediction = mlp_best_ever_more.predict(X_test)\n",
    "\n",
    "k = 0\n",
    "h = False\n",
    "while h == False:\n",
    "    if (np.logical_and(y_test[k] != NN_prediction[k],y_test[k] == large_NN_prediction[k])):\n",
    "        h = True\n",
    "    k += 1\n",
    "    print(k, h, NN_prediction[k])\n",
    "\n",
    "plot_input(X_test,y_test,k-1)\n",
    "print(\"SVM prediction: \", large_NN_prediction[k-1])\n",
    "print(\"Logistic prediction: \", NN_prediction[k-1])\n",
    "        "
   ]
  },
  {
   "cell_type": "markdown",
   "metadata": {},
   "source": [
    "### TO DO 8\n",
    "\n",
    "Let's plot the weigths of the multi-layer perceptron classifier, for the best NN we get with 600 data points and with 5000 data points. The code is already provided, just fix variable names (e.g., replace mlp ,  mlp_large with your estimators) in order to have it working with your implementation\n",
    "\n"
   ]
  },
  {
   "cell_type": "code",
   "execution_count": 18,
   "metadata": {},
   "outputs": [
    {
     "name": "stdout",
     "output_type": "stream",
     "text": [
      "Weights with 600 data points:\n"
     ]
    },
    {
     "data": {
      "image/png": "[encoded data removed]",
      "text/plain": [
       "<Figure size 432x288 with 16 Axes>"
      ]
     },
     "metadata": {},
     "output_type": "display_data"
    },
    {
     "name": "stdout",
     "output_type": "stream",
     "text": [
      "Weights with 5000 data points:\n"
     ]
    },
    {
     "data": {
      "image/png": "[encoded data removed]",
      "text/plain": [
       "<Figure size 432x288 with 16 Axes>"
      ]
     },
     "metadata": {},
     "output_type": "display_data"
    }
   ],
   "source": [
    "# The code is already provided, fix variable names in order to have it working with your implementation\n",
    "\n",
    "print(\"Weights with 600 data points:\")\n",
    "\n",
    "fig, axes = plt.subplots(4, 4)\n",
    "vmin, vmax = mlp_best_ever.coefs_[0].min(), mlp_best_ever.coefs_[0].max()\n",
    "for coef, ax in zip(mlp_best_ever.coefs_[0].T, axes.ravel()):\n",
    "    ax.matshow(coef.reshape(28, 28), cmap=plt.cm.gray, vmin=.5 * vmin,\n",
    "               vmax=.5 * vmax)\n",
    "    ax.set_xticks(())\n",
    "    ax.set_yticks(())\n",
    "\n",
    "plt.show()\n",
    "\n",
    "print(\"Weights with 5000 data points:\")\n",
    "\n",
    "fig, axes = plt.subplots(4, 4)\n",
    "vmin, vmax = mlp_best_ever_more.coefs_[0].min(), mlp_best_ever_more.coefs_[0].max()\n",
    "for coef, ax in zip(mlp_best_ever_more.coefs_[0].T, axes.ravel()):\n",
    "    ax.matshow(coef.reshape(28, 28), cmap=plt.cm.gray, vmin=.5 * vmin,\n",
    "               vmax=.5 * vmax)\n",
    "    ax.set_xticks(())\n",
    "    ax.set_yticks(())\n",
    "plt.show()"
   ]
  },
  {
   "cell_type": "markdown",
   "metadata": {},
   "source": [
    "## QUESTION 4\n",
    "\n",
    "Describe what do you observe by looking at the weights"
   ]
  },
  {
   "cell_type": "markdown",
   "metadata": {},
   "source": [
    "Looking at the weights in some cases you can get an idea of the shape of the clothe. There is no significative difference between the results for the two sets but maybe for the smaller one the shape the of clothes seems a little clearer while for the larger sets images seems less disturbed. "
   ]
  },
  {
   "cell_type": "markdown",
   "metadata": {},
   "source": [
    "### TO DO 9\n",
    "\n",
    "Report the best SVM model and its parameters, you found in the last notebook (or check out the solution on the moodle webpage of the course). Fit it on a few data points and compute its training and test scores."
   ]
  },
  {
   "cell_type": "code",
   "execution_count": 19,
   "metadata": {},
   "outputs": [
    {
     "name": "stdout",
     "output_type": "stream",
     "text": [
      "RESULTS FOR SVM\n",
      "Training score SVM:\n",
      "0.07120000000000004\n",
      "Test score SVM:\n",
      "0.1382\n"
     ]
    }
   ],
   "source": [
    "m_training = 5000\n",
    "\n",
    "X_train, X_test = X[:m_training], X[m_training:2*m_training]\n",
    "y_train, y_test = y[:m_training], y[m_training:2*m_training]\n",
    "\n",
    "# use best parameters found in the SVM notebook, create SVM and perform fitting\n",
    "\n",
    "SVM = SVC(kernel='rbf',C=5,gamma=0.005)\n",
    "SVM.fit(X_train,y_train)\n",
    "\n",
    "print ('RESULTS FOR SVM')\n",
    "\n",
    "SVM_training_error = 1 - SVM.score(X_train,y_train)\n",
    "\n",
    "print(\"Training error SVM:\")\n",
    "print(SVM_training_error)\n",
    "\n",
    "SVM_test_error =  1 -  SVM.score(X_test,y_test)\n",
    "\n",
    "print(\"Test error SVM:\")\n",
    "print(SVM_test_error)"
   ]
  },
  {
   "cell_type": "markdown",
   "metadata": {
    "collapsed": true
   },
   "source": [
    "## QUESTION 5\n",
    "Compare the results of SVM and of NN. Which one would you prefer? "
   ]
  },
  {
   "cell_type": "markdown",
   "metadata": {},
   "source": [
    "We can observe that the training error improves for the NN while the test error in better for the SVM algorithm so propbably NN is overfitting the results. Therefore I would choose the one that provides the lowest error for the test set."
   ]
  },
  {
   "cell_type": "code",
   "execution_count": null,
   "metadata": {},
   "outputs": [],
   "source": []
  }
 ],
 "metadata": {
  "kernelspec": {
   "display_name": "Python 3",
   "language": "python",
   "name": "python3"
  },
  "language_info": {
   "codemirror_mode": {
    "name": "ipython",
    "version": 3
   },
   "file_extension": ".py",
   "mimetype": "text/x-python",
   "name": "python",
   "nbconvert_exporter": "python",
   "pygments_lexer": "ipython3",
   "version": "3.6.5"
  }
 },
 "nbformat": 4,
 "nbformat_minor": 2
}
