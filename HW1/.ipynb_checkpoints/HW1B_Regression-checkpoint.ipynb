{
 "cells": [
  {
   "cell_type": "markdown",
   "metadata": {},
   "source": [
    "# Linear and Polynomial Regression  \n",
    "\n",
    "## IMPORTANT: make sure to rerun all the code from the beginning to obtain the results for the final version of your notebook, since this is the way we will do it before evaluting your notebook!!! Do not change data files or their names\n",
    "\n"
   ]
  },
  {
   "cell_type": "markdown",
   "metadata": {},
   "source": [
    "Student name: Michele Puppin <br>\n",
    "ID Number: 1227474"
   ]
  },
  {
   "cell_type": "markdown",
   "metadata": {},
   "source": [
    "## 1) Linear Regression on the Boston House Price dataset\n",
    "\n",
    "\n",
    "\n",
    "## Dataset description\n",
    "\n",
    "The Boston House Price Dataset involves the prediction of a house price in thousands of dollars given details about the house and its neighborhood.\n",
    "\n",
    "The dataset contains a total of 500 observations, which relate 13 input features to an output variable (house price). <br>\n",
    "The variable names are as follows:\n",
    "1. CRIM: per capita crime rate by town. <br>\n",
    "2. ZN: proportion of residential land zoned for lots over 25,000 sq.ft. <br>\n",
    "3. INDUS: proportion of nonretail business acres per town. <br>\n",
    "4. CHAS: Charles River dummy variable (= 1 if tract bounds river; 0 otherwise). <br>\n",
    "5. NOX: nitric oxides concentration (parts per 10 million). <br>\n",
    "6. RM: average number of rooms per dwelling. <br>\n",
    "7. AGE: proportion of owner-occupied units built prior to 1940. <br>\n",
    "8. DIS: weighted distances to five Boston employment centers. <br>\n",
    "9. RAD: index of accessibility to radial highways. <br>\n",
    "10. TAX: full-value property-tax rate per $\\$$10,000. <br>\n",
    "11. PTRATIO: pupil-teacher ratio by town. <br>\n",
    "12. B: 1000*(Bk – 0.63)\\$^2\\$ where Bk is the proportion of blacks by town. <br>\n",
    "13. LSTAT: \\% lower status of the population. <br>\n",
    "14. MEDV: Median value of owner-occupied homes in $\\$$1000s. <br>"
   ]
  },
  {
   "cell_type": "code",
   "execution_count": 1,
   "metadata": {},
   "outputs": [],
   "source": [
    "#needed if you get the IPython/javascript error on the in-line plots\n",
    "#%matplotlib nbagg  \n",
    "\n",
    "import matplotlib.pyplot as plt\n",
    "import numpy as np\n",
    "import scipy as sp\n",
    "from scipy import stats"
   ]
  },
  {
   "cell_type": "markdown",
   "metadata": {},
   "source": [
    "## Import Data\n",
    "Load the data from a .csv file\n",
    "\n",
    "**TO DO:** insert a seed number (e.g., your ID number (matricola))\n"
   ]
  },
  {
   "cell_type": "code",
   "execution_count": 2,
   "metadata": {},
   "outputs": [],
   "source": [
    "# Load the data\n",
    "IDnumber = 1227474\n",
    "np.random.seed(IDnumber)\n",
    "\n",
    "filename = \"data/house.csv\"\n",
    "\n",
    "Data = np.genfromtxt(filename, delimiter=';',skip_header=1)\n"
   ]
  },
  {
   "cell_type": "markdown",
   "metadata": {},
   "source": [
    "# A quick overview of data\n",
    "\n",
    "To inspect the data you can use the method describe()"
   ]
  },
  {
   "cell_type": "code",
   "execution_count": 3,
   "metadata": {},
   "outputs": [
    {
     "data": {
      "text/plain": [
       "'dataDescription = stats.describe(Data)\\nprint(dataDescription)\\n\\nprint (\"Shape of data array: \" + str(Data.shape))\\n\\n\\n#for more interesting visualization: use Panda!'"
      ]
     },
     "execution_count": 3,
     "metadata": {},
     "output_type": "execute_result"
    }
   ],
   "source": [
    "'''dataDescription = stats.describe(Data)\n",
    "print(dataDescription)\n",
    "\n",
    "print (\"Shape of data array: \" + str(Data.shape))\n",
    "\n",
    "\n",
    "#for more interesting visualization: use Panda!'''"
   ]
  },
  {
   "cell_type": "code",
   "execution_count": 4,
   "metadata": {},
   "outputs": [
    {
     "data": {
      "text/plain": [
       "'import pandas as pd\\nfile_name = \"data/house.csv\"\\ndata=pd.read_csv(file_name,delimiter=\\';\\')\\ndata'"
      ]
     },
     "execution_count": 4,
     "metadata": {},
     "output_type": "execute_result"
    }
   ],
   "source": [
    "'''import pandas as pd\n",
    "file_name = \"data/house.csv\"\n",
    "data=pd.read_csv(file_name,delimiter=';')\n",
    "data'''"
   ]
  },
  {
   "cell_type": "markdown",
   "metadata": {},
   "source": [
    "# Split data in training, validation and test sets\n",
    "\n",
    "\n",
    "\n",
    "Given $m$ total data, denote with $m_{tv}$ the part used for training and validation. Keep $m_t$ data as training data, $m_{val}:=m_{tv}-m_t$ as validation data and $m_{test}:=m - m_{val} - m_t = m-m_{tv}$. For instance one can take $m_t=m/2$ of the data as training, $m_{val}=m/4$  validation and $m_{test}=m/4$ as testing. Let us define: \n",
    "\n",
    "$\\bullet$ $S_{t}$ the training data set\n",
    "\n",
    "$\\bullet$ $S_{val}$ the validation data set\n",
    "\n",
    "$\\bullet$ $S_{test}$ the testing data set\n",
    "\n",
    "\n",
    "The reason for this splitting is as follows:\n",
    "\n",
    "TRAINING DATA: The training data are used to compute the empirical loss\n",
    "$$\n",
    "L_S(h) = \\frac{1}{m_t} \\sum_{z_i \\in S_{t}} \\ell(h,z_i)\n",
    "$$\n",
    "which is used to estimate $h$ in a given model class ${\\cal H}$.\n",
    "i.e. \n",
    "$$\n",
    "\\hat{h} = {\\rm arg\\; min}_{h \\in {\\cal H}} \\, L_S(h)\n",
    "$$\n",
    "\n",
    "VALIDATION DATA: When different model classes are present (e.g. of different complexity such as linear regression which uses a different number $d_j$ of regressors $x_1$,...$x_{d_j}$), one has to choose which one is the \"best\" complexity. \n",
    "Let ${\\cal H}_{d_j}$ be the space of models as a function of the complexity $d_j$ and let \n",
    "$$\n",
    "\\hat h_{d_j} = {\\rm arg\\; min}_{h \\in {\\cal H}_{d_j}} \\, L_S(h)\n",
    "$$\n",
    "\n",
    "One can estimate the generalization error for model $\\hat h_{d_j}$ as follows:\n",
    "$$\n",
    "L_{{\\cal D}}(\\hat h_{d_j}) \\simeq \\frac{1}{m_{val}} \\sum_{ z_i \\in S_{val}} \\ell(\\hat h_{d_j},z_i)\n",
    "$$\n",
    "and then choose the complexity which achieves the best estimate of the generalization error\n",
    "$$\n",
    "\\hat d_j: = {\\rm arg\\; min}_{d_j} \\,\\frac{1}{m_{val}} \\sum_{ z_i \\in S_{val}} \\ell(\\hat h_{d_j},z_i)\n",
    "$$\n",
    "\n",
    "TESTING DATA: Last, the test data set can be used to estimate the performance of the final estimated model\n",
    "$\\hat h_{\\hat d_j}$ using:\n",
    "$$\n",
    "L_{{\\cal D}}(\\hat h_{\\hat d_j}) \\simeq \\frac{1}{m_{test}} \\sum_{ z_i \\in S_{test}} \\ell(\\hat h_{\\hat d_j},z_i)\n",
    "$$\n",
    "\n",
    "\n",
    "**TO DO**: split the data in training, validation and test sets (50%-25%-25%)"
   ]
  },
  {
   "cell_type": "code",
   "execution_count": 5,
   "metadata": {},
   "outputs": [
    {
     "name": "stdout",
     "output_type": "stream",
     "text": [
      "Total number of samples:  500\n",
      "Size of each chunk of data:  125\n",
      "Training input data size:  (250, 13)\n",
      "Training output data size:  (250,)\n",
      "Validation input data size:  (125, 13)\n",
      "Validation output data size:  (125,)\n",
      "Test input data size:  (125, 13)\n",
      "Test output data size:  (125,)\n"
     ]
    }
   ],
   "source": [
    "#get number of total samples\n",
    "num_total_samples = Data.shape[0]\n",
    "\n",
    "print (\"Total number of samples: \", num_total_samples)\n",
    "\n",
    "#size of each chunk of data (1/4 each): 2 of them for training, 1 for validation, 1 for testing\n",
    "size_chunk = int(num_total_samples/4)\n",
    "\n",
    "print (\"Size of each chunk of data: \", size_chunk)\n",
    "\n",
    "#shuffle the data\n",
    "np.random.shuffle(Data)\n",
    "\n",
    "#training data \n",
    "\n",
    "X_training = Data[0:(2*size_chunk), 0:13]\n",
    "Y_training = Data[0:(2*size_chunk), 13]\n",
    "print (\"Training input data size: \", X_training.shape)\n",
    "print (\"Training output data size: \", Y_training.shape)\n",
    "\n",
    "#validation data, to be used to choose among different models\n",
    "X_validation = Data[(2*size_chunk):(3*size_chunk), 0:13]\n",
    "Y_validation = Data[(2*size_chunk):(3*size_chunk), 13]\n",
    "print (\"Validation input data size: \", X_validation.shape)\n",
    "print (\"Validation output data size: \", Y_validation.shape)\n",
    "\n",
    "#test data, to be used to estimate the true loss of the final model(s)\n",
    "X_test = Data[(3*size_chunk):, 0:13]\n",
    "Y_test = Data[(3*size_chunk):, 13]\n",
    "print (\"Test input data size: \", X_test.shape)\n",
    "print (\"Test output data size: \", Y_test.shape)\n"
   ]
  },
  {
   "cell_type": "markdown",
   "metadata": {},
   "source": [
    "# Data Normalization\n",
    "\n",
    "It is common practice in Statistics and Machine Learning to scale the data (= each variable) so that it is centered (zero mean) and has standard deviation equal to $1$. This helps in terms of numerical conditioning of the (inverse) problems of estimating the model (the coefficients of the linear regression in this case), as well as to give the same scale to all the coefficients. "
   ]
  },
  {
   "cell_type": "code",
   "execution_count": 6,
   "metadata": {},
   "outputs": [
    {
     "name": "stdout",
     "output_type": "stream",
     "text": [
      "Mean of the training input data: [-1.93050437e-16 -5.15143483e-17  1.60493840e-15  3.42392781e-16\n",
      "  3.37874173e-15  8.40816305e-15  1.89626093e-16  4.87165863e-16\n",
      "  7.28306304e-17  3.55271368e-18  2.03264072e-14  2.78599366e-15\n",
      " -1.17816867e-15]\n",
      "Std of the training input data: [1. 1. 1. 1. 1. 1. 1. 1. 1. 1. 1. 1. 1.]\n",
      "Mean of the validation input data: [-0.02977004  0.02605947  0.0250107   0.19817407  0.00584214  0.10576718\n",
      "  0.12918592 -0.04295922 -0.0747933  -0.05206589 -0.09078084  0.07012231\n",
      " -0.08722059]\n",
      "Std of the validation input data: [1.18655455 1.01412345 1.07451909 1.32682606 0.91795642 1.17858822\n",
      " 0.96818296 0.99851975 0.95574746 1.01368327 1.03433667 0.89845171\n",
      " 1.01320432]\n",
      "Mean of the test input data: [ 0.09043281 -0.09257317  0.0584375   0.12611077  0.04292791  0.07428187\n",
      "  0.11502551 -0.06017362 -0.0312772   0.01703801  0.02492753 -0.08458815\n",
      "  0.0409512 ]\n",
      "Std of the test input data: [1.25002171 0.84416207 1.01701602 1.22189269 0.9074225  1.06774655\n",
      " 0.95997389 0.87969503 0.9884484  1.00239634 0.97992021 1.11467933\n",
      " 1.05704507]\n"
     ]
    }
   ],
   "source": [
    "#scale the data\n",
    "\n",
    "# standardize the input matrix\n",
    "from sklearn import preprocessing\n",
    "# the transformation is computed on training data and then used on all the 3 sets\n",
    "scaler = preprocessing.StandardScaler().fit(X_training) \n",
    "\n",
    "X_training = scaler.transform(X_training)\n",
    "print (\"Mean of the training input data:\", X_training.mean(axis=0))\n",
    "print (\"Std of the training input data:\",X_training.std(axis=0))\n",
    "\n",
    "X_validation = scaler.transform(X_validation) # use the same transformation on validation data\n",
    "print (\"Mean of the validation input data:\", X_validation.mean(axis=0))\n",
    "print (\"Std of the validation input data:\", X_validation.std(axis=0))\n",
    "\n",
    "X_test = scaler.transform(X_test) # use the same transformation on test data\n",
    "print (\"Mean of the test input data:\", X_test.mean(axis=0))\n",
    "print (\"Std of the test input data:\", X_test.std(axis=0))"
   ]
  },
  {
   "cell_type": "markdown",
   "metadata": {},
   "source": [
    "# Model Training \n",
    "\n",
    "The model is trained (= estimated) minimizing the empirical error\n",
    "$$\n",
    "L_S(h) := \\frac{1}{m_t} \\sum_{z_i \\in S_{t}} \\ell(h,z_i)\n",
    "$$\n",
    "When the loss function is the quadratic loss\n",
    "$$\n",
    "\\ell(h,z) := (y - h(x))^2\n",
    "$$\n",
    "we define  the Residual Sum of Squares (RSS) as\n",
    "$$\n",
    "RSS(h):= \\sum_{z_i \\in S_{t}} \\ell(h,z_i) = \\sum_{z_i \\in S_{t}} (y_i - h(x_i))^2\n",
    "$$ so that the training error becomes\n",
    "$$\n",
    "L_S(h) = \\frac{RSS(h)}{m_t}\n",
    "$$\n",
    "\n",
    "We recal that, for linear models we have $h(x) = <w,x>$ and the Empirical error $L_S(h)$ can be written\n",
    "in terms of the vector of parameters $w$ in the form\n",
    "$$\n",
    "L_S(w) = \\frac{1}{m_t} \\|Y - X w\\|^2\n",
    "$$\n",
    "where $Y$ and $X$ are the matrices whose $i-$th row are, respectively, the output data $y_i$ and the input vectors $x_i^\\top$.\n",
    "\n",
    "\n",
    " **TO DO:** compute the linear regression coefficients implementing the least square algorithm as done in the introductory lab **and** using np.linalg.lstsq from scikitlear "
   ]
  },
  {
   "cell_type": "code",
   "execution_count": 7,
   "metadata": {},
   "outputs": [
    {
     "name": "stdout",
     "output_type": "stream",
     "text": [
      "LS coefficients by hand: [226.356       -6.04296263  12.67467837  -2.18954346  16.20780822\n",
      " -15.06626547  25.12667592  -2.85056978 -30.09413271  27.98594092\n",
      " -23.22589638 -12.34589369  10.05879213 -38.88321884]\n",
      "LS coefficients with numpy lstsq: [226.356       -6.04296263  12.67467837  -2.18954346  16.20780822\n",
      " -15.06626547  25.12667592  -2.85056978 -30.09413271  27.98594092\n",
      " -23.22589638 -12.34589369  10.05879213 -38.88321884]\n",
      "RSS by hand: 594464.2505073114\n",
      "RSS with numpy lstsq:  [594464.25050731]\n",
      "Empirical risk by hand: 2377.857002029246\n",
      "Empirical risk with numpy lstsq: [2377.85700203]\n"
     ]
    }
   ],
   "source": [
    "#compute linear regression coefficients for training data\n",
    "\n",
    "#add a 1 at the beginning of each sample for training, validation, and testing (use homogeneous coordinates)\n",
    "\n",
    "m_training = 2*size_chunk\n",
    "\n",
    "X_training_hom = np.hstack((np.ones((m_training,1)),X_training))\n",
    "\n",
    "m_validation = size_chunk\n",
    "X_validation_hom = np.hstack((np.ones((m_validation,1)),X_validation))\n",
    "\n",
    "\n",
    "m_test = size_chunk\n",
    "X_test_hom = np.hstack((np.ones((m_test,1)),X_test))\n",
    "\n",
    "# Compute the least-squares solution using the same approach of LAB0\n",
    "\n",
    "A = np.dot(X_training_hom.transpose(), X_training_hom)\n",
    "\n",
    "A_inv = np.linalg.inv(A)\n",
    "\n",
    "b = np.array([0., 0., 0., 0., 0., 0., 0., 0., 0., 0., 0., 0., 0., 0.])\n",
    "\n",
    "for i in range(len(X_training)):\n",
    "    b += Y_training[i]*X_training_hom[i]\n",
    "    \n",
    "w_hand = np.dot( A_inv, b.transpose())\n",
    "\n",
    "# Compute the least-squares coefficients using linalg.lstsq\n",
    "w_np, RSStr_np, rank_Xtr, sv_Xtr =  np.linalg.lstsq(X_training_hom, Y_training, rcond = None)\n",
    "\n",
    "print(\"LS coefficients by hand:\", w_hand)\n",
    "print(\"LS coefficients with numpy lstsq:\", w_np)\n",
    "\n",
    "# compute Residual sums of squares by hand\n",
    "\n",
    "RSStr_hand = 0.\n",
    "\n",
    "for i in range(len(X_training_hom)):\n",
    "    RSStr_hand += (Y_training[i] - np.dot(w_hand, X_training_hom[i]))**2\n",
    "    \n",
    "\n",
    "print(\"RSS by hand:\",  RSStr_hand)\n",
    "print(\"RSS with numpy lstsq: \", RSStr_np)\n",
    "\n",
    "print(\"Empirical risk by hand:\", RSStr_hand/m_training)\n",
    "print(\"Empirical risk with numpy lstsq:\", RSStr_np/m_training)"
   ]
  },
  {
   "cell_type": "markdown",
   "metadata": {},
   "source": [
    "## Data prediction \n",
    "\n",
    "Compute the output predictions on both training and validation set and compute the Residual Sum of Sqaures (RSS) defined above, the Emprical Loss and the quantity $1-R^2$ where\n",
    "$$\n",
    "R^2 = \\frac{\\sum_{z_i \\in S_t} (\\hat y_i - \\bar y)^2}{\\sum_{z_i \\in S_t} (y_i - \\bar y)^2} \\quad \\quad \\bar y = \\frac{1}{m_t} \\sum_{z_i \\in S_t} y_i\n",
    "$$\n",
    "is the so-called \"Coefficient of determination\" (COD)\n",
    "\n",
    "**TO DO**: Compute these quantities on  training, validation and test sets.\n"
   ]
  },
  {
   "cell_type": "code",
   "execution_count": 8,
   "metadata": {},
   "outputs": [],
   "source": [
    "#compute predictions on training and validation\n",
    "def RSS_hand(X, Y, w):  #compute RSS\n",
    "    dim= int(X.shape[1])\n",
    "    rss=0\n",
    "    for i in range(0,len(Y)):\n",
    "        temp = np.array(X[i,:])\n",
    "        rss+= (Y[i]-np.dot(w.reshape((1,w.shape[0])),temp))**2\n",
    "    return rss\n",
    "\n",
    "def COD(Y_exp,Y): #compute R^2 from Y\n",
    "    R_up=0\n",
    "    R_down=0\n",
    "    for i in range(0,len(Y)):\n",
    "        R_up+= np.sum((Y_exp[i]-np.mean(Y))**2)\n",
    "        R_down+=np.sum((Y[i]-np.mean(Y))**2)\n",
    "    return (1-(R_up/R_down))"
   ]
  },
  {
   "cell_type": "code",
   "execution_count": 9,
   "metadata": {},
   "outputs": [
    {
     "name": "stdout",
     "output_type": "stream",
     "text": [
      "RSS on validation data: 322122.8491393582\n",
      "Loss estimated from validation data: 2576.9827931148657\n",
      "Measure on Training Data (1-R^2): 0.2770003886045045\n",
      "Measure on Validation Data(1-R^2): 0.13618511779440656\n",
      "Measure on Test Data(1-R^2): 0.1741118109429709\n"
     ]
    }
   ],
   "source": [
    "#compute predictions on training and validation\n",
    "\n",
    "prediction_training = np.dot(w_hand, X_training_hom.transpose())\n",
    "prediction_validation = np.dot(w_hand, X_validation_hom.transpose())\n",
    "prediction_test = np.dot(w_hand, X_test_hom.transpose())\n",
    "\n",
    "#what about the loss for points in the validation and test data?\n",
    "RSS_validation = 0\n",
    "RSS_test = 0\n",
    "\n",
    "for i in range(len(X_validation_hom)):\n",
    "    RSS_validation += (Y_validation[i] - np.dot(w_hand, X_validation_hom[i]))**2\n",
    "\n",
    "for i in range(len(X_test_hom)):\n",
    "    RSS_test += (Y_test[i] - np.dot(w_hand, X_test_hom[i]))\n",
    "\n",
    "print(\"RSS on validation data:\",  RSS_validation)\n",
    "print(\"Loss estimated from validation data:\", RSS_validation/m_validation)\n",
    "\n",
    "\n",
    "#another measure of how good our linear fit is given by the following (that is 1 - R^2)\n",
    "measure_training = COD(prediction_training, Y_training)\n",
    "measure_validation = COD(prediction_validation, Y_validation)\n",
    "measure_test = COD(prediction_test, Y_test)\n",
    "\n",
    "print(\"Measure on Training Data (1-R^2):\", measure_training)\n",
    "print(\"Measure on Validation Data(1-R^2):\", measure_validation)\n",
    "print(\"Measure on Test Data(1-R^2):\", measure_test)"
   ]
  },
  {
   "cell_type": "markdown",
   "metadata": {},
   "source": [
    "**QUESTION 1**: Comment on the results you get and on the difference between the train, validation and test errors.\n",
    "\n",
    "**Insert your answer here** Results are similar for the three sets. \n",
    "\n"
   ]
  },
  {
   "cell_type": "markdown",
   "metadata": {},
   "source": [
    "## ... and plot:\n",
    "\n",
    "\n",
    "### (1) output predictions on training  data"
   ]
  },
  {
   "cell_type": "code",
   "execution_count": 10,
   "metadata": {},
   "outputs": [
    {
     "data": {
      "image/png": "[encoded data removed]",
      "text/plain": [
       "<Figure size 432x288 with 1 Axes>"
      ]
     },
     "metadata": {},
     "output_type": "display_data"
    }
   ],
   "source": [
    "# Plot predictions on Training data \n",
    "plt.figure()\n",
    "\n",
    "#the following is just for nice plotting, not required: it sorts the predictions by value so that they fall on\n",
    "# a line and it's easier to spot the differences\n",
    "\n",
    "# NOTICE: This code is suitable for the \"standard\" solution, check that the variable names \n",
    "# and structure are compatible with your implementation\n",
    "\n",
    "sorting_permutation = sorted(range(len(prediction_training[0:m_training])), key=lambda k: prediction_training[0:m_training][k])\n",
    "plt.plot(Y_training[sorting_permutation], 'ko', alpha=0.5)\n",
    "plt.plot(prediction_training[sorting_permutation], 'rx')\n",
    "\n",
    "plt.xlabel('Input (index of instance)')\n",
    "plt.ylabel('Predicted Output')\n",
    "plt.title('Predictions on Training Data')\n",
    "plt.show()"
   ]
  },
  {
   "cell_type": "markdown",
   "metadata": {},
   "source": [
    "### (2) output predictions on validation  data"
   ]
  },
  {
   "cell_type": "code",
   "execution_count": 11,
   "metadata": {},
   "outputs": [
    {
     "data": {
      "image/png": "[encoded data removed]",
      "text/plain": [
       "<Figure size 432x288 with 1 Axes>"
      ]
     },
     "metadata": {},
     "output_type": "display_data"
    }
   ],
   "source": [
    "# Plot predictions on validation data \n",
    "plt.figure()\n",
    "\n",
    "#the following is just for nice plotting, not required: it sorts the predictions by value so that they fall on\n",
    "# a line and it's easier to spot the differences\n",
    "\n",
    "# NOTICE: This code is suitable for the \"standard\" solution, check that the variable names \n",
    "# and structure are compatible with your implementation\n",
    "\n",
    "sorting_permutation = sorted(range(len(prediction_validation[0:m_validation])), key=lambda k: prediction_validation[0:m_validation][k])\n",
    "plt.plot(Y_validation[sorting_permutation], 'ko', alpha=0.5)\n",
    "plt.plot(prediction_validation[sorting_permutation], 'gx')\n",
    "\n",
    "\n",
    "plt.xlabel('Input (index of instance)')\n",
    "plt.ylabel('Predicted Output')\n",
    "plt.title('Predictions on Validation Data')\n",
    "plt.show()"
   ]
  },
  {
   "cell_type": "markdown",
   "metadata": {},
   "source": [
    "## Ordinary Least-Squares using scikit-learn\n",
    "\n",
    "A fast way to compute the LS estimate is through sklearn.linear_model"
   ]
  },
  {
   "cell_type": "code",
   "execution_count": 12,
   "metadata": {},
   "outputs": [
    {
     "name": "stdout",
     "output_type": "stream",
     "text": [
      "Intercept: 226.35600000000002\n",
      "Least-Squares Coefficients: [ -6.04296263  12.67467837  -2.18954346  16.20780822 -15.06626547\n",
      "  25.12667592  -2.85056978 -30.09413271  27.98594092 -23.22589638\n",
      " -12.34589369  10.05879213 -38.88321884]\n",
      "Measure on training data: 0.2770003886045045\n"
     ]
    }
   ],
   "source": [
    "from sklearn import linear_model\n",
    "LinReg = linear_model.LinearRegression()  # build the object LinearRegression\n",
    "LinReg.fit(X_training, Y_training)  # estimate the LS coefficients\n",
    "print(\"Intercept:\", LinReg.intercept_)\n",
    "print(\"Least-Squares Coefficients:\", LinReg.coef_)\n",
    "prediction_training = LinReg.predict(X_training)  # predict output values on training set\n",
    "prediction_test = LinReg.predict(X_test)  # predict output values on test set\n",
    "print(\"Measure on training data:\", 1-LinReg.score(X_training, Y_training))"
   ]
  },
  {
   "cell_type": "markdown",
   "metadata": {},
   "source": [
    "# 2) Polynomial Regression\n",
    "\n",
    "In this exercise you need to use polynomial regression to estimate the height reached by a ball thrown into air. The motion of the ball is controlled by the motion equation with uniform acceleration (in our case given by the gravity) that is a quadratic model. You need to estimate the initial height of the ball (h), the initial speed at which it was launched (v) and the gravity acceleration (g). The equation of the motion is : $y = h + vt + \\frac{1}{2} gt^2$ .\n",
    "In the motion.csv file you can find the measured height values (subject to noise) and the corresponding time instants."
   ]
  },
  {
   "cell_type": "code",
   "execution_count": 13,
   "metadata": {},
   "outputs": [],
   "source": [
    "#import the required packages\n",
    "import matplotlib.pyplot as plt\n",
    "import csv\n",
    "from scipy import stats\n",
    "import numpy as np\n",
    "import sklearn as sl\n",
    "from sklearn import linear_model"
   ]
  },
  {
   "cell_type": "code",
   "execution_count": 14,
   "metadata": {},
   "outputs": [
    {
     "name": "stdout",
     "output_type": "stream",
     "text": [
      "['time', 'height']\n",
      "(500, 1)\n",
      "(500, 1)\n"
     ]
    }
   ],
   "source": [
    "# load the data (time and height values) from the motion.csv file\n",
    "with open('data/motion.csv', 'r') as f:\n",
    "    motion = csv.reader(f, delimiter=';')\n",
    "    \n",
    "    header = next(motion) #skip first line\n",
    "    print(header)\n",
    "    \n",
    "    # get all the rows as a list\n",
    "    data = list(motion)\n",
    "    # transform data into numpy array\n",
    "    data = np.array(data).astype(float)\n",
    "\n",
    "x = data[:,0].reshape(-1,1)\n",
    "y = data[:,1].reshape(-1,1)\n",
    "    \n",
    "print(x.shape)\n",
    "print(y.shape)"
   ]
  },
  {
   "cell_type": "code",
   "execution_count": 15,
   "metadata": {},
   "outputs": [
    {
     "name": "stdout",
     "output_type": "stream",
     "text": [
      "LinregressResult(slope=0.5227301908080866, intercept=21.304553347021823, rvalue=0.08206857514729198, pvalue=nan, stderr=nan)\n",
      "slope (linregress):  [[0.52273019]]   intercept (lnregress): [21.30455335]\n",
      "correlation coefficient: 0.9932647489732933\n"
     ]
    },
    {
     "name": "stderr",
     "output_type": "stream",
     "text": [
      "/home/michelepuppin/anaconda3/lib/python3.6/site-packages/scipy/stats/_stats_mstats_common.py:117: RuntimeWarning: invalid value encountered in sqrt\n",
      "  t = r * np.sqrt(df / ((1.0 - r + TINY)*(1.0 + r + TINY)))\n",
      "/home/michelepuppin/anaconda3/lib/python3.6/site-packages/scipy/stats/_stats_mstats_common.py:119: RuntimeWarning: invalid value encountered in sqrt\n",
      "  sterrest = np.sqrt((1 - r**2) * ssym / ssxm / df)\n"
     ]
    }
   ],
   "source": [
    "# try to perform a linear regression (it does not work properly, the model is quadratic !)\n",
    "\n",
    "x_r = x.reshape(1, 500)\n",
    "y_r = y.reshape(1, 500)\n",
    "\n",
    "linear = stats.linregress(x_r,y_r)\n",
    "\n",
    "print(linear)\n",
    "\n",
    "lin_reg = linear_model.LinearRegression()\n",
    "lin_reg.fit(x,y)\n",
    "\n",
    "slope = lin_reg.coef_\n",
    "intercept = lin_reg.intercept_\n",
    "r_value = 1-lin_reg.score(x,y)\n",
    "\n",
    "print('slope (linregress): ', slope,'  intercept (lnregress):', intercept);\n",
    "print('correlation coefficient:', r_value)"
   ]
  },
  {
   "cell_type": "code",
   "execution_count": 16,
   "metadata": {},
   "outputs": [
    {
     "name": "stdout",
     "output_type": "stream",
     "text": [
      "Coefficients of the regression:  [[ 0.         25.02337708 -4.90994928]]\n",
      "initial position:  [0.96901643]   initial speed: 25.02337707657677  gravity acceleration: -9.819898551410288\n",
      "correlation coefficient: 0.9985480988596623\n"
     ]
    }
   ],
   "source": [
    "# use polynomial regression (the feature vectors have three components:\n",
    "# they contain all 1s (for bias), the input data $x$ and their squared values $x^2$\n",
    "\n",
    "dataX = np.zeros([500,3])  \n",
    "dataX[:,0] = np.ones([500])  # dataX[:,0]: bias \n",
    "dataX[:,1] = x[:,0]   # dataX[:,1]: 1st order terms\n",
    "dataX[:,2] =x[:,0]*x[:,0]   # dataX[:,2]: 2nd order terms\n",
    "\n",
    "pol_reg = linear_model.LinearRegression()\n",
    "pol_reg.fit(dataX, y)\n",
    "\n",
    "coef_array = pol_reg.coef_\n",
    "\n",
    "print(\"Coefficients of the regression: \", coef_array)\n",
    "\n",
    "h = pol_reg.intercept_\n",
    "v = pol_reg.coef_[0][1]\n",
    "g = pol_reg.coef_[0][2]*2\n",
    "sc = pol_reg.score(dataX, y)\n",
    "\n",
    "print('initial position: ', h,'  initial speed:', v, ' gravity acceleration:', g )\n",
    "print('correlation coefficient:', np.sqrt(sc))"
   ]
  },
  {
   "cell_type": "markdown",
   "metadata": {},
   "source": [
    "**Question 2** Explain what do you conclude looking at the linear and polynomial fitting ?  \n",
    "\n",
    "**Place your answer here** Since data are arrange as a parabola the linear fitting is not suitable for this case instead choosing a second degree polynomial the prediction fits very well given data."
   ]
  },
  {
   "cell_type": "code",
   "execution_count": 17,
   "metadata": {},
   "outputs": [
    {
     "data": {
      "image/png": "[encoded data removed]",
      "text/plain": [
       "<Figure size 432x288 with 1 Axes>"
      ]
     },
     "metadata": {},
     "output_type": "display_data"
    },
    {
     "data": {
      "image/png": "[encoded data removed]",
      "text/plain": [
       "<Figure size 432x288 with 1 Axes>"
      ]
     },
     "metadata": {},
     "output_type": "display_data"
    }
   ],
   "source": [
    "# plot the input data and the estimated models\n",
    "\n",
    "plt.plot(x, y, \"bo\", label=\"Original_data\")\n",
    "plt.plot(x, intercept+slope*x, \"rx\", label=\"Linear_fit\")\n",
    "plt.legend()\n",
    "plt.show()\n",
    "\n",
    "plt.plot(x, y, \"bo\", label=\"Original_data\")\n",
    "plt.plot(x, h+v*x+0.5*g*x**2, \"ro\", label=\"Polynomial_fit\")\n",
    "plt.legend()\n",
    "plt.show()"
   ]
  },
  {
   "cell_type": "code",
   "execution_count": null,
   "metadata": {},
   "outputs": [],
   "source": []
  }
 ],
 "metadata": {
  "anaconda-cloud": {},
  "celltoolbar": "Raw Cell Format",
  "kernelspec": {
   "display_name": "Python 3",
   "language": "python",
   "name": "python3"
  },
  "language_info": {
   "codemirror_mode": {
    "name": "ipython",
    "version": 3
   },
   "file_extension": ".py",
   "mimetype": "text/x-python",
   "name": "python",
   "nbconvert_exporter": "python",
   "pygments_lexer": "ipython3",
   "version": "3.6.5"
  }
 },
 "nbformat": 4,
 "nbformat_minor": 2
}
